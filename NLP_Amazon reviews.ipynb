{
 "cells": [
  {
   "cell_type": "code",
   "execution_count": 57,
   "id": "6d0a0ed6",
   "metadata": {},
   "outputs": [],
   "source": [
    "# 1. Tokenize\n",
    "# 2. Remove the stopwords\n",
    "# 3. Lemmatization/Stemming\n",
    "# 4. Document-Term Matrix -- TfIdf\n",
    "# 5. Model"
   ]
  },
  {
   "cell_type": "code",
   "execution_count": 58,
   "id": "d2c33252",
   "metadata": {},
   "outputs": [],
   "source": [
    "import pandas as pd\n",
    "from sklearn.model_selection import train_test_split\n",
    "import nltk\n",
    "from nltk.tokenize import word_tokenize,RegexpTokenizer\n",
    "from nltk.corpus import stopwords\n",
    "from nltk.stem import WordNetLemmatizer,PorterStemmer\n",
    "from sklearn.feature_extraction.text import TfidfVectorizer\n",
    "from sklearn.naive_bayes import MultinomialNB,GaussianNB,BernoulliNB\n",
    "from sklearn.metrics import confusion_matrix,precision_score,recall_score,f1_score,roc_auc_score,accuracy_score,roc_curve\n",
    "import matplotlib.pyplot as plt\n",
    "import warnings\n",
    "warnings.filterwarnings('ignore')\n",
    "\n",
    "#word_tokenize('An Apple a day keeps the doctor away.So, will I get sick soon?')\n",
    "#tokenizer.tokenize('An Apple a day keeps the doctor away.So, will I get sick soon?')"
   ]
  },
  {
   "cell_type": "code",
   "execution_count": 59,
   "id": "6be401ca",
   "metadata": {},
   "outputs": [
    {
     "data": {
      "text/plain": [
       "0      1\n",
       "1      1\n",
       "2      1\n",
       "3      1\n",
       "4      1\n",
       "      ..\n",
       "194    1\n",
       "195    1\n",
       "196    0\n",
       "197    0\n",
       "198    0\n",
       "Name: Label, Length: 199, dtype: int64"
      ]
     },
     "execution_count": 59,
     "metadata": {},
     "output_type": "execute_result"
    }
   ],
   "source": [
    "reviews_df=pd.read_csv('Amazon_Reviews.csv')\n",
    "y=reviews_df['Label']\n",
    "y"
   ]
  },
  {
   "cell_type": "code",
   "execution_count": 60,
   "id": "93253d7d",
   "metadata": {},
   "outputs": [],
   "source": [
    "reviews_df.drop(columns='Label',inplace=True)"
   ]
  },
  {
   "cell_type": "code",
   "execution_count": 61,
   "id": "d10a4f6a",
   "metadata": {},
   "outputs": [],
   "source": [
    "X_train,X_test,y_train,y_test=train_test_split(reviews_df,y,test_size=0.2,random_state=42)"
   ]
  },
  {
   "cell_type": "markdown",
   "id": "27378ffc",
   "metadata": {},
   "source": [
    "# Tokenizer & stop words"
   ]
  },
  {
   "cell_type": "code",
   "execution_count": 62,
   "id": "de431a15",
   "metadata": {},
   "outputs": [
    {
     "data": {
      "text/plain": [
       "RegexpTokenizer(pattern='\\\\w+', gaps=False, discard_empty=True, flags=re.UNICODE|re.MULTILINE|re.DOTALL)"
      ]
     },
     "execution_count": 62,
     "metadata": {},
     "output_type": "execute_result"
    }
   ],
   "source": [
    "tokenizer=RegexpTokenizer(r'\\w+')\n",
    "tokenizer\n"
   ]
  },
  {
   "cell_type": "code",
   "execution_count": 63,
   "id": "92ea4aa6",
   "metadata": {},
   "outputs": [
    {
     "data": {
      "text/plain": [
       "['i',\n",
       " 'me',\n",
       " 'my',\n",
       " 'myself',\n",
       " 'we',\n",
       " 'our',\n",
       " 'ours',\n",
       " 'ourselves',\n",
       " 'you',\n",
       " \"you're\",\n",
       " \"you've\",\n",
       " \"you'll\",\n",
       " \"you'd\",\n",
       " 'your',\n",
       " 'yours',\n",
       " 'yourself',\n",
       " 'yourselves',\n",
       " 'he',\n",
       " 'him',\n",
       " 'his',\n",
       " 'himself',\n",
       " 'she',\n",
       " \"she's\",\n",
       " 'her',\n",
       " 'hers',\n",
       " 'herself',\n",
       " 'it',\n",
       " \"it's\",\n",
       " 'its',\n",
       " 'itself',\n",
       " 'they',\n",
       " 'them',\n",
       " 'their',\n",
       " 'theirs',\n",
       " 'themselves',\n",
       " 'what',\n",
       " 'which',\n",
       " 'who',\n",
       " 'whom',\n",
       " 'this',\n",
       " 'that',\n",
       " \"that'll\",\n",
       " 'these',\n",
       " 'those',\n",
       " 'am',\n",
       " 'is',\n",
       " 'are',\n",
       " 'was',\n",
       " 'were',\n",
       " 'be',\n",
       " 'been',\n",
       " 'being',\n",
       " 'have',\n",
       " 'has',\n",
       " 'had',\n",
       " 'having',\n",
       " 'do',\n",
       " 'does',\n",
       " 'did',\n",
       " 'doing',\n",
       " 'a',\n",
       " 'an',\n",
       " 'the',\n",
       " 'and',\n",
       " 'but',\n",
       " 'if',\n",
       " 'or',\n",
       " 'because',\n",
       " 'as',\n",
       " 'until',\n",
       " 'while',\n",
       " 'of',\n",
       " 'at',\n",
       " 'by',\n",
       " 'for',\n",
       " 'with',\n",
       " 'about',\n",
       " 'against',\n",
       " 'between',\n",
       " 'into',\n",
       " 'through',\n",
       " 'during',\n",
       " 'before',\n",
       " 'after',\n",
       " 'above',\n",
       " 'below',\n",
       " 'to',\n",
       " 'from',\n",
       " 'up',\n",
       " 'down',\n",
       " 'in',\n",
       " 'out',\n",
       " 'on',\n",
       " 'off',\n",
       " 'over',\n",
       " 'under',\n",
       " 'again',\n",
       " 'further',\n",
       " 'then',\n",
       " 'once',\n",
       " 'here',\n",
       " 'there',\n",
       " 'when',\n",
       " 'where',\n",
       " 'why',\n",
       " 'how',\n",
       " 'all',\n",
       " 'any',\n",
       " 'both',\n",
       " 'each',\n",
       " 'few',\n",
       " 'more',\n",
       " 'most',\n",
       " 'other',\n",
       " 'some',\n",
       " 'such',\n",
       " 'no',\n",
       " 'nor',\n",
       " 'not',\n",
       " 'only',\n",
       " 'own',\n",
       " 'same',\n",
       " 'so',\n",
       " 'than',\n",
       " 'too',\n",
       " 'very',\n",
       " 's',\n",
       " 't',\n",
       " 'can',\n",
       " 'will',\n",
       " 'just',\n",
       " 'don',\n",
       " \"don't\",\n",
       " 'should',\n",
       " \"should've\",\n",
       " 'now',\n",
       " 'd',\n",
       " 'll',\n",
       " 'm',\n",
       " 'o',\n",
       " 're',\n",
       " 've',\n",
       " 'y',\n",
       " 'ain',\n",
       " 'aren',\n",
       " \"aren't\",\n",
       " 'couldn',\n",
       " \"couldn't\",\n",
       " 'didn',\n",
       " \"didn't\",\n",
       " 'doesn',\n",
       " \"doesn't\",\n",
       " 'hadn',\n",
       " \"hadn't\",\n",
       " 'hasn',\n",
       " \"hasn't\",\n",
       " 'haven',\n",
       " \"haven't\",\n",
       " 'isn',\n",
       " \"isn't\",\n",
       " 'ma',\n",
       " 'mightn',\n",
       " \"mightn't\",\n",
       " 'mustn',\n",
       " \"mustn't\",\n",
       " 'needn',\n",
       " \"needn't\",\n",
       " 'shan',\n",
       " \"shan't\",\n",
       " 'shouldn',\n",
       " \"shouldn't\",\n",
       " 'wasn',\n",
       " \"wasn't\",\n",
       " 'weren',\n",
       " \"weren't\",\n",
       " 'won',\n",
       " \"won't\",\n",
       " 'wouldn',\n",
       " \"wouldn't\"]"
      ]
     },
     "execution_count": 63,
     "metadata": {},
     "output_type": "execute_result"
    }
   ],
   "source": [
    "en_sw=stopwords.words('english')\n",
    "en_sw"
   ]
  },
  {
   "cell_type": "markdown",
   "id": "d9f81a81",
   "metadata": {},
   "source": [
    "# Lemmatization/Stemming"
   ]
  },
  {
   "cell_type": "code",
   "execution_count": 64,
   "id": "b0190cf5",
   "metadata": {},
   "outputs": [],
   "source": [
    "stemmer=PorterStemmer()\n",
    "lemmatizer=WordNetLemmatizer()\n",
    "tfidf=TfidfVectorizer()\n",
    "\n",
    "#stemmer.stem('cacti')\n",
    "#lemmatizer.lemmatize('playing',pos='v')"
   ]
  },
  {
   "cell_type": "code",
   "execution_count": 65,
   "id": "ea459668",
   "metadata": {},
   "outputs": [],
   "source": [
    "def text_preprocessing(text):\n",
    "    tokens=tokenizer.tokenize(text)\n",
    "    pure_tokens=[token.lower() for token in tokens if token.lower() not in en_sw]\n",
    "    lemmatized_tokens=[lemmatizer.lemmatize(token,pos='v') for token in pure_tokens]\n",
    "    \n",
    "    return ' '.join(lemmatized_tokens)\n"
   ]
  },
  {
   "cell_type": "code",
   "execution_count": null,
   "id": "949a6df0",
   "metadata": {},
   "outputs": [],
   "source": []
  },
  {
   "cell_type": "code",
   "execution_count": 66,
   "id": "f85c2f0d",
   "metadata": {},
   "outputs": [
    {
     "data": {
      "text/plain": [
       "183    handful track hear far complete though miss me...\n",
       "38     work mac clearly say line work mac os system d...\n",
       "24     like album think would hear song two think lis...\n",
       "142    pattern detail sketch although excite purchase...\n",
       "141    contemporary fairytale sure delight book take ...\n",
       "                             ...                        \n",
       "106    authentic first encounter yoruba say cds reall...\n",
       "14     awful beyond belief feel write keep others was...\n",
       "92     omg soulwax own wow like amaze album ever ever...\n",
       "179    yet another unsubstantiated case believe discr...\n",
       "102    yes get book expect much man wrong love book m...\n",
       "Name: Review, Length: 159, dtype: object"
      ]
     },
     "execution_count": 66,
     "metadata": {},
     "output_type": "execute_result"
    }
   ],
   "source": [
    "X_train['Review']=X_train['Review'].apply(text_preprocessing)\n",
    "X_train['Review']\n",
    "\n"
   ]
  },
  {
   "cell_type": "code",
   "execution_count": 67,
   "id": "968b28ae",
   "metadata": {},
   "outputs": [
    {
     "data": {
      "text/plain": [
       "82     dirty south probably best southside cd ever co...\n",
       "15     try fool us fake review glaringly obvious glow...\n",
       "111    load fun 6 year old 5 year old really enjoy ga...\n",
       "177    make fascinate read whale naturalist animal co...\n",
       "76     bad deal order dvd receive substitute never re...\n",
       "163    excellent product alphabet block beautiful cou...\n",
       "68     great combination creativity adventure 4 year ...\n",
       "67     even mommy fun one four year old daughter love...\n",
       "120    worth wait jmm never release bad album many wo...\n",
       "173    worth investment great set block research diff...\n",
       "176    small work small compare think would even work...\n",
       "148    three four star depend classic draw room comed...\n",
       "65     profound truly horrible narrative style work f...\n",
       "30     incorrect disc big jvc fan like model suspisci...\n",
       "86     draw air book draw air pretty bad idea someone...\n",
       "85     little one maid israel bill harvey wonderful g...\n",
       "55     good receive defective book buy book move germ...\n",
       "60     homer moses extremely helpful gem complex subj...\n",
       "90     instructions include trust seller promise item...\n",
       "159    perfect die hard baseball fan read baseball am...\n",
       "16     romantic zen baseball comedy hear folks say ma...\n",
       "124    oh cereal sweet yet good one taste addiction t...\n",
       "96     fun educational train shape peg win combinatio...\n",
       "172    wonderful worth 80 great block definitely wort...\n",
       "66     definitely enjoy gift 6 yr old daughter big ba...\n",
       "189    mask familiarity mask maker take us cinematic ...\n",
       "147    professional quality first try buy tape market...\n",
       "9      whisper wicked saint easy read book make want ...\n",
       "18     jobst ultrasheer thigh high excellent product ...\n",
       "128    technical information book great view joint us...\n",
       "190    unmask sadly absolutely nothing original movie...\n",
       "45     fast mp3 download music wax decades ago one 26...\n",
       "192    great resource chinese eastern medincine excel...\n",
       "164    great twin purchase alphabet block twin daught...\n",
       "101    great book historical romance lovers engage co...\n",
       "69     rapunzel great game 3 year old son 7 year old ...\n",
       "126    oh oh oh go really distraught go local walmart...\n",
       "123    este libro contiene todo lo que pense que inte...\n",
       "75     os x mac classic negative game work os x requi...\n",
       "78     disappoint perfume awful smell nothing like fr...\n",
       "Name: Review, dtype: object"
      ]
     },
     "execution_count": 67,
     "metadata": {},
     "output_type": "execute_result"
    }
   ],
   "source": [
    "X_test['Review']=X_test['Review'].apply(text_preprocessing)\n",
    "X_test['Review']"
   ]
  },
  {
   "cell_type": "code",
   "execution_count": 68,
   "id": "0d915948",
   "metadata": {},
   "outputs": [
    {
     "data": {
      "text/plain": [
       "<159x2348 sparse matrix of type '<class 'numpy.float64'>'\n",
       "\twith 5522 stored elements in Compressed Sparse Row format>"
      ]
     },
     "execution_count": 68,
     "metadata": {},
     "output_type": "execute_result"
    }
   ],
   "source": [
    "train_tfidf=tfidf.fit_transform(X_train['Review'])\n",
    "train_tfidf"
   ]
  },
  {
   "cell_type": "code",
   "execution_count": 69,
   "id": "9ec7e4a6",
   "metadata": {},
   "outputs": [
    {
     "data": {
      "text/plain": [
       "<40x2348 sparse matrix of type '<class 'numpy.float64'>'\n",
       "\twith 968 stored elements in Compressed Sparse Row format>"
      ]
     },
     "execution_count": 69,
     "metadata": {},
     "output_type": "execute_result"
    }
   ],
   "source": [
    "test_tfidf=tfidf.transform(X_test['Review'])\n",
    "test_tfidf"
   ]
  },
  {
   "cell_type": "code",
   "execution_count": 70,
   "id": "8e623615",
   "metadata": {},
   "outputs": [
    {
     "data": {
      "text/plain": [
       "MultinomialNB()"
      ]
     },
     "execution_count": 70,
     "metadata": {},
     "output_type": "execute_result"
    }
   ],
   "source": [
    "mnb=MultinomialNB()\n",
    "mnb.fit(train_tfidf,y_train)\n",
    "\n"
   ]
  },
  {
   "cell_type": "code",
   "execution_count": 71,
   "id": "b0d9909c",
   "metadata": {},
   "outputs": [
    {
     "data": {
      "text/plain": [
       "array([1, 0, 1, 1, 0, 1, 1, 1, 1, 1, 1, 0, 0, 0, 1, 1, 1, 1, 0, 1, 1, 1,\n",
       "       1, 1, 1, 1, 0, 1, 1, 1, 0, 1, 1, 1, 1, 1, 0, 0, 1, 0], dtype=int64)"
      ]
     },
     "execution_count": 71,
     "metadata": {},
     "output_type": "execute_result"
    }
   ],
   "source": [
    "mnb_pred=mnb.predict(test_tfidf)\n",
    "mnb_pred"
   ]
  },
  {
   "cell_type": "code",
   "execution_count": 72,
   "id": "36a46e40",
   "metadata": {},
   "outputs": [
    {
     "data": {
      "text/plain": [
       "array([0.63267571, 0.42504187, 0.72539178, 0.58047979, 0.43269878,\n",
       "       0.71701702, 0.70281757, 0.6988829 , 0.74654801, 0.73659667,\n",
       "       0.52076417, 0.47159633, 0.483029  , 0.46262047, 0.57222183,\n",
       "       0.72587221, 0.60328656, 0.57926838, 0.34302637, 0.67160903,\n",
       "       0.70329385, 0.52504   , 0.62848082, 0.71790063, 0.66821964,\n",
       "       0.59159297, 0.33743504, 0.65827446, 0.62053523, 0.70466571,\n",
       "       0.48973342, 0.62089197, 0.64010366, 0.8393374 , 0.65160254,\n",
       "       0.72429519, 0.45203029, 0.4947946 , 0.51958351, 0.43043542])"
      ]
     },
     "execution_count": 72,
     "metadata": {},
     "output_type": "execute_result"
    }
   ],
   "source": [
    "pos_probabs=mnb.predict_proba(test_tfidf)[::,1]\n",
    "pos_probabs"
   ]
  },
  {
   "cell_type": "code",
   "execution_count": 73,
   "id": "b2765655",
   "metadata": {},
   "outputs": [
    {
     "data": {
      "text/plain": [
       "array([[ 9,  6],\n",
       "       [ 2, 23]], dtype=int64)"
      ]
     },
     "execution_count": 73,
     "metadata": {},
     "output_type": "execute_result"
    }
   ],
   "source": [
    "confusion_matrix(y_test,mnb_pred)\n",
    "\n"
   ]
  },
  {
   "cell_type": "code",
   "execution_count": 74,
   "id": "a215f238",
   "metadata": {},
   "outputs": [
    {
     "data": {
      "text/plain": [
       "0.92"
      ]
     },
     "execution_count": 74,
     "metadata": {},
     "output_type": "execute_result"
    }
   ],
   "source": [
    "recall_score(y_test,mnb_pred)\n",
    "\n"
   ]
  },
  {
   "cell_type": "code",
   "execution_count": 75,
   "id": "43622a30",
   "metadata": {},
   "outputs": [
    {
     "data": {
      "text/plain": [
       "0.7931034482758621"
      ]
     },
     "execution_count": 75,
     "metadata": {},
     "output_type": "execute_result"
    }
   ],
   "source": [
    "precision_score(y_test,mnb_pred)\n",
    "\n"
   ]
  },
  {
   "cell_type": "code",
   "execution_count": 76,
   "id": "34128a55",
   "metadata": {},
   "outputs": [],
   "source": [
    "fpr,tpr,thresholds=roc_curve(y_test,pos_probabs)\n",
    "\n"
   ]
  },
  {
   "cell_type": "code",
   "execution_count": 77,
   "id": "875b55af",
   "metadata": {},
   "outputs": [
    {
     "data": {
      "text/plain": [
       "Text(0, 0.5, 'True Positive Rate')"
      ]
     },
     "execution_count": 77,
     "metadata": {},
     "output_type": "execute_result"
    },
    {
     "data": {
      "image/png": "[encoded data removed]",
      "text/plain": [
       "<Figure size 432x288 with 1 Axes>"
      ]
     },
     "metadata": {
      "needs_background": "light"
     },
     "output_type": "display_data"
    }
   ],
   "source": [
    "plt.plot(fpr,tpr)\n",
    "plt.xlabel('False Positive Rate')\n",
    "plt.ylabel('True Positive Rate')\n",
    "\n"
   ]
  },
  {
   "cell_type": "code",
   "execution_count": 78,
   "id": "179df9da",
   "metadata": {},
   "outputs": [
    {
     "data": {
      "text/plain": [
       "0.8426666666666667"
      ]
     },
     "execution_count": 78,
     "metadata": {},
     "output_type": "execute_result"
    }
   ],
   "source": [
    "roc_auc_score(y_test,pos_probabs)\n",
    "\n"
   ]
  },
  {
   "cell_type": "code",
   "execution_count": 79,
   "id": "a2dcb4d4",
   "metadata": {},
   "outputs": [
    {
     "data": {
      "text/plain": [
       "0.8"
      ]
     },
     "execution_count": 79,
     "metadata": {},
     "output_type": "execute_result"
    }
   ],
   "source": [
    "accuracy_score(y_test,mnb_pred)"
   ]
  },
  {
   "cell_type": "code",
   "execution_count": null,
   "id": "3994f451",
   "metadata": {},
   "outputs": [],
   "source": []
  },
  {
   "cell_type": "code",
   "execution_count": null,
   "id": "5b117c8f",
   "metadata": {},
   "outputs": [],
   "source": []
  }
 ],
 "metadata": {
  "kernelspec": {
   "display_name": "Python 3",
   "language": "python",
   "name": "python3"
  },
  "language_info": {
   "codemirror_mode": {
    "name": "ipython",
    "version": 3
   },
   "file_extension": ".py",
   "mimetype": "text/x-python",
   "name": "python",
   "nbconvert_exporter": "python",
   "pygments_lexer": "ipython3",
   "version": "3.8.8"
  }
 },
 "nbformat": 4,
 "nbformat_minor": 5
}
